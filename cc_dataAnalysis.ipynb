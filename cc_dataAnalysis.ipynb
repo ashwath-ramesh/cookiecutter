{
 "cells": [
  {
   "cell_type": "markdown",
   "id": "08f77c35",
   "metadata": {},
   "source": [
    "## {{cookiecutter.project_name}}\n",
    "\n",
    "{{cookiecutter.description}}\n",
    "\n",
    "This notebook contains basic statistical analysis and visualization of the data.\n",
    "\n",
    "\n",
    "### Data Sources\n",
    "- summary : Processed file from notebook 1-Data_Prep\n",
    "\n",
    "### Changes\n",
    "- {% now 'utc', '%m-%d-%Y' %} : Started project"
   ]
  },
  {
   "cell_type": "code",
   "execution_count": null,
   "id": "23b9570c",
   "metadata": {},
   "outputs": [],
   "source": [
    "import pandas as pd\n",
    "from pathlib import Path\n",
    "from matplotlib import pyplot as plt\n",
    "import seaborn as sns\n",
    "import numpy as np\n",
    "import datetime"
   ]
  },
  {
   "cell_type": "code",
   "execution_count": null,
   "id": "081b83a7",
   "metadata": {},
   "outputs": [],
   "source": [
    "%matplotlib inline"
   ]
  },
  {
   "cell_type": "code",
   "execution_count": null,
   "id": "e0eae678",
   "metadata": {},
   "outputs": [],
   "source": [
    "pd.set_option('display.max_rows', 500)\n",
    "pd.set_option('display.max_columns', 500)\n",
    "pd.set_option('display.width', 1000)\n",
    "pd.options.display.float_format = '{:,.2f}'.format\n",
    "\n",
    "today = datetime.date.today()"
   ]
  },
  {
   "cell_type": "markdown",
   "id": "79b87115",
   "metadata": {},
   "source": [
    "### (1) File Locations"
   ]
  },
  {
   "cell_type": "code",
   "execution_count": null,
   "id": "fdbe7e3e",
   "metadata": {},
   "outputs": [],
   "source": [
    "in_file = ''\n",
    "out_file = ''"
   ]
  },
  {
   "cell_type": "markdown",
   "id": "7bf1caf0",
   "metadata": {},
   "source": [
    "### (2) Read file"
   ]
  },
  {
   "cell_type": "markdown",
   "id": "877d318f",
   "metadata": {},
   "source": [
    "#### (i) Read a CSV file"
   ]
  },
  {
   "cell_type": "code",
   "execution_count": null,
   "id": "cec59fb0",
   "metadata": {},
   "outputs": [],
   "source": [
    "df = pd.read_csv(in_file)"
   ]
  },
  {
   "cell_type": "markdown",
   "id": "cacf8ead",
   "metadata": {},
   "source": [
    "#### (ii) Read an Excel file"
   ]
  },
  {
   "cell_type": "code",
   "execution_count": null,
   "id": "1e105e5e",
   "metadata": {},
   "outputs": [],
   "source": [
    "sheet1 = '' # Sheet name in the excel file\n",
    "sheet2 = '' # Sheet name in the excel file\n",
    "\n",
    "with pd.ExcelFile(in_file) as reader:\n",
    "    df1 = pd.read_excel(reader, sheet_name=sheet1, header=None)\n",
    "    df2 = pd.read_excel(reader, sheet_name=sheet2, header=None)"
   ]
  },
  {
   "cell_type": "markdown",
   "id": "c59e31c3",
   "metadata": {},
   "source": [
    "#### (iii) Read a pickle file"
   ]
  },
  {
   "cell_type": "code",
   "execution_count": null,
   "id": "eb4d1985",
   "metadata": {},
   "outputs": [],
   "source": [
    "df = pd.read_pickle(in_file)"
   ]
  },
  {
   "cell_type": "code",
   "execution_count": null,
   "id": "e819c6e8",
   "metadata": {},
   "outputs": [],
   "source": [
    "df = df.reindex(columns=['col1', 'col3', 'col2'])"
   ]
  },
  {
   "cell_type": "markdown",
   "id": "b3f90fe8",
   "metadata": {},
   "source": [
    "### (3) Perform data analysis"
   ]
  },
  {
   "cell_type": "markdown",
   "id": "db07976d",
   "metadata": {},
   "source": [
    "#### REFERENCES\n",
    "\n",
    "**DATAFRAME**\n",
    "\n",
    "- https://pbpython.com/excel-pandas-comp.html\n",
    "- https://pbpython.com/excel-pandas-comp-2.html\n",
    "- Merging dataframes: https://stackoverflow.com/questions/53645882/pandas-merging-101\n",
    "- Concatenating dataframes: https://stackoverflow.com/questions/49620538/what-are-the-levels-keys-and-names-arguments-for-in-pandas-concat-functio\n",
    "\n",
    "**PIVOT TABLE**\n",
    "\n",
    "- https://pbpython.com/pandas-pivot-table-explained.html\n",
    "- https://stackoverflow.com/questions/47152691/how-can-i-pivot-a-dataframe"
   ]
  },
  {
   "cell_type": "code",
   "execution_count": null,
   "id": "cdf82272",
   "metadata": {},
   "outputs": [],
   "source": [
    "# Dataframe: check for unique values per column\n",
    "# - Apply on whole dataframe\n",
    "boolean = df.duplicated().any() # False\n",
    "df.values_count()\n",
    "\n",
    "# - Apply on subset of dataframe\n",
    "boolean = df.duplicated(subset=['Student','Date']).any() # False\n",
    "boolean = df.duplicated(subset=['Student']).any() # True\n",
    "df[\"name\"].unique()\n",
    "boolean = not df['col'].is_unique      # True\n",
    "boolean = df['col'].duplicated().any() # True\n",
    "\n",
    "# Dataframe: removing duplicates\n",
    "df.drop_duplicates(subset=[\"col1\",\"col2\"], inplace=True)\n",
    "\n",
    "#0,1 represent the cols that you want to retain from the filtered dataframe\n",
    "df.drop_duplicates(subset=[\"col1\",\"col2\"]).iloc[:,[0,1]] "
   ]
  },
  {
   "cell_type": "markdown",
   "id": "91f91a0c",
   "metadata": {},
   "source": [
    "#### ---------- GENERAL DATAFRAME MANIPULATION ----------"
   ]
  },
  {
   "cell_type": "code",
   "execution_count": null,
   "id": "3df48461",
   "metadata": {},
   "outputs": [],
   "source": [
    "# Dataframe: filtering data\n",
    "df[df[\"col\"]==value] \n",
    "df[df['date'] >='20140905']\n",
    "df[df['date'] >='2014-03']\n",
    "df[(df['date'] >='20140701') & (df['date'] <= '20140715')] # Show all cols after filtering\n",
    "df.loc[(df['date'] >='20140701') & (df['date'] <= '20140715'), [\"col1\", \"col2\"]] # col1,2 are cols you want to show\n",
    "df[df[\"account number\"].isin([714466,218895])]\n",
    "df[df[\"col\"].map(lambda x: x.startswith('B1'))]\n",
    "df[df[\"col\"].map(lambda x: x.startswith('B1')) & (df[\"quantity\"] > 22)]\n",
    "df[df['col'].str.contains('B1')]\n",
    "df[(df['sku'].str.contains('B1-531')) & (df['quantity']>40)].sort_values(by=['quantity','name'],ascending=[0,1])\n",
    "df[df.index.isin(my_list)] # Filter by index"
   ]
  },
  {
   "cell_type": "code",
   "execution_count": null,
   "id": "8d3ab819",
   "metadata": {},
   "outputs": [],
   "source": [
    "# Dataframe: filter & edit\n",
    "# Filter the rows with date constraints, then for col1 set value to 0.05 and col2 value to 1.25\n",
    "df.loc[(df['date'] >='20140701') & (df['date'] <= '20140715'), [\"col1\"]] = 0.05\n",
    "df.loc[(df['date'] >='20140701') & (df['date'] <= '20140715'), [\"col1\", \"col2\"]] = 0.05, 1.25"
   ]
  },
  {
   "cell_type": "code",
   "execution_count": null,
   "id": "29a462ba",
   "metadata": {},
   "outputs": [],
   "source": [
    "# Apply a format to the whole dataframe\n",
    "def money(x):\n",
    "    return \"${:,.0f}\".format(x)\n",
    "\n",
    "formatted_df = df.applymap(money)\n",
    "formatted_df"
   ]
  },
  {
   "cell_type": "code",
   "execution_count": null,
   "id": "ba0bd119",
   "metadata": {},
   "outputs": [],
   "source": [
    "# Dataframe: Create a total sum row\n",
    "sum_row = df[['col3', 'col4', 'col5']].sum() # List cols that need sum row\n",
    "df_sum = pd.DataFrame(data=sum_row).T # create a new DF\n",
    "df_sum=df_sum.reindex(columns=df.columns) # add all the cols in the original DF to the new DF\n",
    "df_final=df.append(df_sum,ignore_index=True) #append the new DF to the old DF"
   ]
  },
  {
   "cell_type": "code",
   "execution_count": null,
   "id": "13f819c2",
   "metadata": {},
   "outputs": [],
   "source": [
    "df['col'] = df[['col1', 'col2']].copy()"
   ]
  },
  {
   "cell_type": "code",
   "execution_count": null,
   "id": "7decd23c",
   "metadata": {},
   "outputs": [],
   "source": []
  },
  {
   "cell_type": "markdown",
   "id": "e4e608ba",
   "metadata": {},
   "source": [
    "#### ---------- GROUPBY MANIPULATION ----------\n",
    "\n",
    "**Grouping & aggregating data**\n",
    "\n",
    "1. Aggregation basics\n",
    "2. Custom aggregation functions\n",
    "3. Custom functions with multiple columns\n",
    "4. Working with group objects after aggretation has been run on them\n",
    "5. Calculate subtotals\n",
    "6. Using sparklines in aggregation functions\n",
    "7. Flattening Hierarchical Column Indices\n",
    "8. Selecting parts of the groupBy"
   ]
  },
  {
   "cell_type": "markdown",
   "id": "732004e0",
   "metadata": {},
   "source": [
    "(1) aggfunc aggregation basics\n",
    "\n",
    "    - using basic inbuilt functions\n",
    "    - working with time series grouping\n",
    "    - formatting data\n",
    "\n",
    "References:\n",
    "- https://pbpython.com/groupby-agg.html\n",
    "- https://pbpython.com/pandas-grouper-agg.html\n",
    "- https://pandas.pydata.org/pandas-docs/stable/user_guide/timeseries.html#dateoffset-objects\n",
    "- https://mkaz.blog/code/python-string-format-cookbook/\n",
    "- https://pbpython.com/styling-pandas.html\n",
    "- https://stackoverflow.com/questions/14529838/apply-multiple-functions-to-multiple-groupby-columns/47103408#47103408\n",
    "- https://pandas.pydata.org/pandas-docs/version/0.22/generated/pandas.core.groupby.DataFrameGroupBy.agg.html"
   ]
  },
  {
   "cell_type": "code",
   "execution_count": null,
   "id": "d90c4355",
   "metadata": {},
   "outputs": [],
   "source": [
    "# Grouping & aggregating data\n",
    "# Step 1: How to be aggregated\n",
    "agg_func = {'col2': ['sum', 'mean', 'median', 'min', 'max', 'std', 'var', 'mad', 'prod']} # or\n",
    "agg_func = {'col2': ['describe']}\n",
    "# 'count' will not include NaN values whereas 'size' will\n",
    "# nunique function will exclude NaN values in the unique counts\n",
    "agg_func = {'col2': ['count', 'nunique', 'size']}\n",
    " # first and last values. Needs to be sorted first. Can also use min, max\n",
    "agg_func = {'col2': ['first', 'last']} \n",
    "agg_func = {'fare': ['idxmax', 'idxmin']} # idxmax and idxmin to get the index value of row\n",
    "# Use also stats functions (scipy or numpy)\n",
    "from scipy.stats import skew, mode\n",
    "agg_func = {'fare': [skew, mode, pd.Series.mode]} # 'mode': returns most freq value & count\n",
    "# 'Set' display full list of unique values\n",
    "agg_func = {'deck': [ 'nunique', mode, set]}\n",
    "# Aggregating multiple columns\n",
    "agg_func = {'col2': ['describe', np.sum, np.mean], 'col3':[np.sum, np.mean]}\n",
    "\n",
    "\n",
    "# Step 2: Define groupby\n",
    "df.groupby(['col1']).agg(agg_func).round(2)\n",
    "df.sort_values(by=['fare'], ascending=False).groupby(['col1']).agg(agg_func)"
   ]
  },
  {
   "cell_type": "code",
   "execution_count": null,
   "id": "82044c1f",
   "metadata": {},
   "outputs": [],
   "source": [
    "# Grouping time series data\n",
    "# Reference: https://pbpython.com/pandas-grouper-agg.html\n",
    "# Date offsets: https://pandas.pydata.org/pandas-docs/stable/user_guide/timeseries.html#dateoffset-objects\n",
    "df.groupby(['name', pd.Grouper(key='date', freq='M')])['ext price'].sum()\n",
    "\n",
    "year_grp = df.groupby(df['DATE_SOLD'].dt.year) # dt.year helps present the data as only year"
   ]
  },
  {
   "cell_type": "code",
   "execution_count": null,
   "id": "8e9b1101",
   "metadata": {},
   "outputs": [],
   "source": [
    "# Formatting\n",
    "# Reference: \n",
    "# - https://mkaz.blog/code/python-string-format-cookbook/\n",
    "# - https://pbpython.com/styling-pandas.html\n",
    "df.groupby('name')['ext price'].agg(['mean', 'sum']).style.format('${0:,.2f}')\n",
    "\n",
    "# If groupby has multiple columns and each is formatted differently\n",
    "format_dict = {'sum':'${0:,.0f}', 'date': '{:%m-%Y}', 'pct_of_total': '{:.2%}'}\n",
    "monthly_sales.style.format(format_dict).hide_index()\n",
    "\n",
    "# Add higlighting to cell\n",
    "monthly_sales\n",
    " .style\n",
    " .format(format_dict)\n",
    " .hide_index()\n",
    " .highlight_max(color='lightgreen')\n",
    " .highlight_min(color='#cd4f39'))\n",
    "    \n",
    "# Add background gradient\n",
    "(monthly_sales.style\n",
    " .format(format_dict)\n",
    " .background_gradient(subset=['sum'], cmap='BuGn'))"
   ]
  },
  {
   "cell_type": "markdown",
   "id": "9fbdd3a7",
   "metadata": {},
   "source": [
    "(2) Custom aggregation functions"
   ]
  },
  {
   "cell_type": "code",
   "execution_count": null,
   "id": "ac2145d4",
   "metadata": {},
   "outputs": [],
   "source": [
    "# Custom aggregation functions\n",
    "# Step 1: Define custom aggregation function\n",
    "# eg1: define a wrapper function\n",
    "def percentile_25(x):\n",
    "    return x.quantile(.25)\n",
    "\n",
    "# (or) eg2: define a lambda function and give it a name\n",
    "lambda_25 = lambda x: x.quantile(.25)\n",
    "lambda_25.__name__ = 'lambda_25%'\n",
    "\n",
    "# Step 2: Use the custom aggregation fucntion\n",
    "# Use eg1, eg2 and also additionally define inline lambda function directly in aggfunc\n",
    "agg_func = {'col2': [percentile_25, lambda_25, , lambda x: x.quantile(.25)]\n",
    "            \n",
    "# Step 3: Use the aggregation function\n",
    "df.groupby(['col1']).agg(agg_func).round(2)"
   ]
  },
  {
   "cell_type": "code",
   "execution_count": null,
   "id": "6f743745",
   "metadata": {},
   "outputs": [],
   "source": [
    "# Aggregate the sum of the 10 largest and 10 smallest values\n",
    "def top_10_sum(x):\n",
    "    return x.nlargest(10).sum()\n",
    "\n",
    "def bottom_10_sum(x):\n",
    "    return x.nsmallest(10).sum()\n",
    "\n",
    "agg_func = {'col2': [top_10_sum, bottom_10_sum]}\n",
    "df.groupby('col1').agg(agg_func)\n",
    "\n",
    "# (or) -------\n",
    "\n",
    "agg_func = ({'col3':[np.sum, np.mean, np.min, np.max]})\n",
    "\n",
    "df[['col2', 'col3', 'col4']]\n",
    ".groupby(['col1'])\n",
    ".agg(agg_func)\n",
    ".sort_values([('col3', 'sum')],ascending=False) # Tuple needed in case of multi index columns in aggfunc\n",
    ".nlargest(10, ('col3', 'sum')) # Tuple needed in case of multi index columns in aggfunc"
   ]
  },
  {
   "cell_type": "markdown",
   "id": "a5b7d3c0",
   "metadata": {},
   "source": [
    "(3) Custom functions with multiple columns\n",
    "\n",
    "Reference: https://stackoverflow.com/questions/14529838/apply-multiple-functions-to-multiple-groupby-columns/47103408#47103408"
   ]
  },
  {
   "cell_type": "code",
   "execution_count": null,
   "id": "819973d6",
   "metadata": {},
   "outputs": [],
   "source": [
    "def summary(x):\n",
    "    result = {\n",
    "        'fare_sum': x['fare'].sum(),  # fare_sum is the column label. 'fare' is col to sum\n",
    "        'fare_mean': x['fare'].mean(),\n",
    "        'fare_range': x['fare'].max() - x['fare'].min()\n",
    "    }\n",
    "    return pd.Series(result).round(0)\n",
    "\n",
    "df.groupby(['class']).apply(summary)"
   ]
  },
  {
   "attachments": {
    "image.png": {
     "image/png": "[encoded data removed]"
    }
   },
   "cell_type": "markdown",
   "id": "5cab4c7e",
   "metadata": {},
   "source": [
    "![image.png](attachment:image.png)"
   ]
  },
  {
   "cell_type": "markdown",
   "id": "c1e278e3",
   "metadata": {},
   "source": [
    "(4) Working with group objects after aggretation has been run on them"
   ]
  },
  {
   "cell_type": "code",
   "execution_count": null,
   "id": "864474ba",
   "metadata": {},
   "outputs": [],
   "source": [
    "# Calculate a percent of sum column calculated\n",
    "df.groupby(['embark_town', 'class']).agg({'fare': 'sum'}).assign(\n",
    "                                    pct_total=lambda x: x / x.sum())"
   ]
  },
  {
   "attachments": {
    "image.png": {
     "image/png": "[encoded data removed]"
    }
   },
   "cell_type": "markdown",
   "id": "24694a23",
   "metadata": {},
   "source": [
    "![image.png](attachment:image.png)"
   ]
  },
  {
   "cell_type": "code",
   "execution_count": null,
   "id": "7592535f",
   "metadata": {},
   "outputs": [],
   "source": [
    "fare_group = df.groupby(['embark_town', 'class']).agg({'fare': 'sum'})\n",
    "fare_group.groupby(level=0).cumsum() # group level 0 refers to the 'embark_town' level"
   ]
  },
  {
   "attachments": {
    "image.png": {
     "image/png": "[encoded data removed]"
    }
   },
   "cell_type": "markdown",
   "id": "c2cb1e9a",
   "metadata": {},
   "source": [
    "![image.png](attachment:image.png)"
   ]
  },
  {
   "cell_type": "markdown",
   "id": "15e29c51",
   "metadata": {},
   "source": [
    "(5) Calculate subtotal"
   ]
  },
  {
   "cell_type": "code",
   "execution_count": null,
   "id": "c4267d8a",
   "metadata": {},
   "outputs": [],
   "source": [
    "import sidetable\n",
    "df.groupby(['class', 'embark_town', 'sex']).agg({'fare': 'sum'}).stb.subtotal()"
   ]
  },
  {
   "cell_type": "code",
   "execution_count": null,
   "id": "2d742b77",
   "metadata": {},
   "outputs": [],
   "source": [
    "# Unclear usage!!!\n",
    "# Groupby: create a subtotal \n",
    "df_new=df_old[[\"col1\",\"col2\",\"col3\"]].groupby('col4').sum()"
   ]
  },
  {
   "cell_type": "markdown",
   "id": "878dd560",
   "metadata": {},
   "source": [
    "(6) Using sparklines in aggregation functions"
   ]
  },
  {
   "cell_type": "code",
   "execution_count": null,
   "id": "10961614",
   "metadata": {},
   "outputs": [],
   "source": [
    "# Use sparkline in aggregation function\n",
    "def sparkline_str(x):\n",
    "    bins=np.histogram(x)[0]\n",
    "    sl = ''.join(sparklines(bins))\n",
    "    return sl\n",
    "\n",
    "agg_func = {'col3': [sparkline_str]}\n",
    "df.groupby(['col1', 'col2']).agg(agg_func)"
   ]
  },
  {
   "cell_type": "markdown",
   "id": "d675fc36",
   "metadata": {},
   "source": [
    "(7) Flattening Hierarchical Column Indices"
   ]
  },
  {
   "cell_type": "code",
   "execution_count": null,
   "id": "7faebced",
   "metadata": {},
   "outputs": [],
   "source": [
    "multi_df = df.groupby(['embark_town', 'class'], as_index=False).agg({'fare': ['sum', 'mean']})\n",
    "multi_df.columns = ['_'.join(col).rstrip('_') for col in multi_df.columns.values]"
   ]
  },
  {
   "cell_type": "markdown",
   "id": "0e04b139",
   "metadata": {},
   "source": [
    "(8) Selecting parts of the groupBy"
   ]
  },
  {
   "cell_type": "code",
   "execution_count": null,
   "id": "74cd16a1",
   "metadata": {},
   "outputs": [],
   "source": [
    "# Get part of the groupby dataframe using a key (the groupby key)\n",
    "# Reference: https://pandas.pydata.org/pandas-docs/stable/reference/api/pandas.core.groupby.GroupBy.get_group.html\n",
    "\n",
    "In [21]: groupBy.get_group('foo')\n",
    "Out[21]: \n",
    "     A         B   C\n",
    "0  foo  1.624345   5\n",
    "2  foo -0.528172  11\n",
    "4  foo  0.865408  14"
   ]
  },
  {
   "cell_type": "code",
   "execution_count": null,
   "id": "c6e1c0b4",
   "metadata": {},
   "outputs": [],
   "source": [
    "# Select different columns using the groupby slicing\n",
    "In [22]: groupBy[[\"A\", \"B\"]].get_group(\"foo\")\n",
    "Out[22]:\n",
    "     A         B\n",
    "0  foo  1.624345\n",
    "2  foo -0.528172\n",
    "4  foo  0.865408\n",
    "\n",
    "In [23]: groupBy[\"C\"].get_group(\"foo\")\n",
    "Out[23]:\n",
    "0     5\n",
    "2    11\n",
    "4    14"
   ]
  },
  {
   "cell_type": "code",
   "execution_count": null,
   "id": "5f7f1f8b",
   "metadata": {},
   "outputs": [],
   "source": [
    "groups = dict(list(groupBy))\n",
    "groups['foo']\n",
    "     A         B   C\n",
    "0  foo  1.624345   5\n",
    "2  foo -0.528172  11\n",
    "4  foo  0.865408  14"
   ]
  },
  {
   "cell_type": "markdown",
   "id": "58a8c11b",
   "metadata": {},
   "source": [
    "#### ---------- PIVOT TABLE MANIPULATION ----------"
   ]
  },
  {
   "cell_type": "code",
   "execution_count": null,
   "id": "4d798397",
   "metadata": {},
   "outputs": [],
   "source": [
    "# PIVOT TABLE: create\n",
    "df_pvt = pd.pivot_table(data=df, \n",
    "                index=['col1'], \n",
    "                columns=['col2'], \n",
    "                values=['col3'], \n",
    "                aggfunc={'col4':np.mean},\n",
    "                margins=True,\n",
    "                fill_value=0, \n",
    "                dropna=True)"
   ]
  },
  {
   "cell_type": "code",
   "execution_count": null,
   "id": "0db68f62",
   "metadata": {
    "scrolled": true
   },
   "outputs": [],
   "source": [
    "# PIVOT TABLE: FILTER BY INDEX\n",
    "df[df.index.str.contains('XYZ')] # Can also use above methods "
   ]
  },
  {
   "cell_type": "code",
   "execution_count": null,
   "id": "92916abe",
   "metadata": {},
   "outputs": [],
   "source": [
    "# Transform pivot table to a regular dataframe\n",
    "# https://stackoverflow.com/questions/43756052/transform-pandas-pivot-table-to-regular-dataframe\n",
    "df.columns = df.columns.droplevel(0) #remove amount\n",
    "df.columns.name = None               #remove categories\n",
    "df = df.reset_index()                #index to columns"
   ]
  },
  {
   "cell_type": "code",
   "execution_count": null,
   "id": "3ce48c19",
   "metadata": {},
   "outputs": [],
   "source": [
    "# Percent of Grand Total\n",
    "# https://www.absentdata.com/pandas/pandas-pivot-table/\n",
    "df_pvt = pd.pivot_table(data=df,\n",
    "                index=['WEIGHT'],\n",
    "                # columns=['DATE_SOLD'],\n",
    "                values=['ID_PRODUCT'],\n",
    "                aggfunc= lambda x:x.sum()/df['ID_PRODUCT'].sum(),\n",
    "                margins=True,\n",
    "                fill_value=0,\n",
    "                dropna=True)\n",
    "# Note: If you add more columns, it takes % of Grand total!"
   ]
  },
  {
   "cell_type": "code",
   "execution_count": null,
   "id": "2a89c51d",
   "metadata": {},
   "outputs": [],
   "source": [
    "# Visualise the total weight distribution\n",
    "fig, (ax) = plt.subplots()\n",
    "bins=np.arange(0,df.WEIGHT.max(), step=1)\n",
    "ax.hist(df.WEIGHT, bins=bins, histtype=\"step\", label='All JP sellers', edgecolor='black')\n",
    "\n",
    "fig.tight_layout()\n",
    "fig.title = ('Distribution of weights of all products sent from JP to HK')\n",
    "\n",
    "ax.axvline(df.WEIGHT.mean(), color='red', linestyle='--')\n",
    "\n",
    "ax.set_xlabel('Weights (Kgs)')\n",
    "ax.set_ylabel('Count of products')\n",
    "ax.set_xticks(np.arange(0,df.WEIGHT.max(), step=5))\n",
    "ax.legend(loc='upper right')"
   ]
  },
  {
   "cell_type": "markdown",
   "id": "3c495734",
   "metadata": {},
   "source": [
    "### (3) Save Excel file into reports directory\n",
    "\n",
    "Save an Excel file with intermediate results into the report directory"
   ]
  },
  {
   "cell_type": "code",
   "execution_count": null,
   "id": "554a6b6c",
   "metadata": {},
   "outputs": [],
   "source": [
    "writer = pd.ExcelWriter(report_file, engine='xlsxwriter')"
   ]
  },
  {
   "cell_type": "code",
   "execution_count": null,
   "id": "1637459a",
   "metadata": {},
   "outputs": [],
   "source": [
    "with pd.ExcelWriter(report_file,\n",
    "                engine='xlsxwriter',\n",
    "                date_format='mmm-yyyy',\n",
    "                datetime_format='mmm-yyyy') as writer:\n",
    "    sales_summary.to_excel(writer, sheet_name='2018-sales')\n",
    "    workbook = writer.book\n",
    "    workbook.set_properties({\n",
    "        'category': r'c:\\Users\\cmoffitt\\Documents\\notebooks\\customer_analysis',\n",
    "        'title' : '2018 Sales Summary',\n",
    "        'subject': 'Analysis for Anne Analyst',\n",
    "        'author': '1-Excel-Properties.ipynb',\n",
    "        'status': 'Initial draft',\n",
    "        'comments': 'src_dir: customer_analysis',\n",
    "        'keywords': 'notebook-generated'\n",
    "    })"
   ]
  },
  {
   "cell_type": "code",
   "execution_count": null,
   "id": "03ca7ca6",
   "metadata": {},
   "outputs": [],
   "source": [
    "df.to_excel(writer, sheet_name='Report')"
   ]
  },
  {
   "cell_type": "code",
   "execution_count": null,
   "id": "2483781b",
   "metadata": {},
   "outputs": [],
   "source": [
    "writer.save()"
   ]
  }
 ],
 "metadata": {
  "kernelspec": {
   "display_name": "Python 3 (ipykernel)",
   "language": "python",
   "name": "python3"
  },
  "language_info": {
   "codemirror_mode": {
    "name": "ipython",
    "version": 3
   },
   "file_extension": ".py",
   "mimetype": "text/x-python",
   "name": "python",
   "nbconvert_exporter": "python",
   "pygments_lexer": "ipython3",
   "version": "3.9.10"
  }
 },
 "nbformat": 4,
 "nbformat_minor": 5
}
