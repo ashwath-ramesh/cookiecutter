{
 "cells": [
  {
   "cell_type": "markdown",
   "id": "08f77c35",
   "metadata": {},
   "source": [
    "## {{cookiecutter.project_name}}\n",
    "\n",
    "{{cookiecutter.description}}\n",
    "\n",
    "### Data Sources\n",
    "- file1 : Description of where this file came from\n",
    "\n",
    "### Changes\n",
    "- {% now 'utc', '%m-%d-%Y' %} : Started project"
   ]
  },
  {
   "cell_type": "code",
   "execution_count": null,
   "id": "23b9570c",
   "metadata": {},
   "outputs": [],
   "source": [
    "import pandas as pd\n",
    "from pathlib import Path\n",
    "from datetime import datetime\n",
    "import glob"
   ]
  },
  {
   "cell_type": "code",
   "execution_count": null,
   "id": "e0eae678",
   "metadata": {},
   "outputs": [],
   "source": [
    "# Set pandas display options\n",
    "pd.set_option('display.max_rows', 500)\n",
    "pd.set_option('display.max_columns', 500)\n",
    "pd.set_option('display.width', 1000)\n",
    "pd.options.display.float_format = '{:,.2f}'.format # Display as df as float with 2 decimals"
   ]
  },
  {
   "cell_type": "markdown",
   "id": "79b87115",
   "metadata": {},
   "source": [
    "### (1) Set file Locations"
   ]
  },
  {
   "cell_type": "code",
   "execution_count": null,
   "id": "fdbe7e3e",
   "metadata": {},
   "outputs": [],
   "source": [
    "today = datetime.date.today()\n",
    "\n",
    "in_file = ''\n",
    "out_file = ''"
   ]
  },
  {
   "cell_type": "markdown",
   "id": "43841032",
   "metadata": {},
   "source": [
    "### (2) Read files"
   ]
  },
  {
   "cell_type": "markdown",
   "id": "877d318f",
   "metadata": {},
   "source": [
    "#### (i) Read a CSV file"
   ]
  },
  {
   "cell_type": "code",
   "execution_count": null,
   "id": "cec59fb0",
   "metadata": {},
   "outputs": [],
   "source": [
    "df = pd.read_csv(in_file)"
   ]
  },
  {
   "cell_type": "markdown",
   "id": "cacf8ead",
   "metadata": {},
   "source": [
    "#### (ii) Read an Excel file"
   ]
  },
  {
   "cell_type": "code",
   "execution_count": null,
   "id": "1e105e5e",
   "metadata": {},
   "outputs": [],
   "source": [
    "sheet1 = '' # Sheet name in the excel file\n",
    "sheet2 = '' # Sheet name in the excel file\n",
    "\n",
    "with pd.ExcelFile(in_file) as reader:\n",
    "    df1 = pd.read_excel(reader, sheet_name=sheet1, header=None)\n",
    "    df2 = pd.read_excel(reader, sheet_name=sheet2, header=None)"
   ]
  },
  {
   "cell_type": "markdown",
   "id": "f5531403",
   "metadata": {},
   "source": [
    "### (3) Column Cleanup\n",
    "\n",
    "- Get names & index of each column\n",
    "- Drop/keep certain columns\n",
    "- Add/insert new columns\n",
    "- Remove all leading and trailing spaces\n",
    "- Rename the columns for consistency\n",
    "- Change order of columns"
   ]
  },
  {
   "cell_type": "code",
   "execution_count": null,
   "id": "e7bedc38",
   "metadata": {},
   "outputs": [],
   "source": [
    "# Get names & index of each column\n",
    "# As a LIST: build up a reference list of all columns and their index\n",
    "cols = df.columns.tolist() \n",
    "#or\n",
    "col_mapping = [f\"{c[0]}:{c[1]}\" for c in enumerate(df.columns)]\n",
    "\n",
    "# As a DICT:  To rename columns, create a dictionary view of the data\n",
    "col_mapping_dict = {c[0]:c[1] for c in enumerate(df.columns)}"
   ]
  },
  {
   "cell_type": "code",
   "execution_count": null,
   "id": "c1849620",
   "metadata": {},
   "outputs": [],
   "source": [
    "# Insert a dataframe column at a specific location\n",
    "df.insert(6, \"new_col\", np.nan) # 6 is the loc number starting with 0\n",
    "df.insert(loc, column, value)"
   ]
  },
  {
   "cell_type": "code",
   "execution_count": null,
   "id": "e4b183d7",
   "metadata": {},
   "outputs": [],
   "source": [
    "# Change order of columns\n",
    "cols = df.columns.tolist()\n",
    "cols = ['col3', 'col2', 'col1']\n",
    "df = df[cols]"
   ]
  },
  {
   "cell_type": "code",
   "execution_count": null,
   "id": "761e18cf",
   "metadata": {},
   "outputs": [],
   "source": [
    "# Drop specific columns\n",
    "df = df.drop(['col1', 'col2'], axis=1) \n",
    "df = df.iloc[:, :df.columns.get_loc('col') + 1] # Keep all columsn until 'col' / Drop columns to the right of 'col'"
   ]
  },
  {
   "cell_type": "code",
   "execution_count": null,
   "id": "38fecf1c",
   "metadata": {},
   "outputs": [],
   "source": [
    "# Remove all leading and trailing spaces\n",
    "# https://stackoverflow.com/questions/30763351/removing-space-in-dataframe-python\n",
    "df.columns = [x.strip() for x in df.columns]"
   ]
  },
  {
   "cell_type": "code",
   "execution_count": null,
   "id": "7acc21d0",
   "metadata": {},
   "outputs": [],
   "source": [
    "# Rename cols using a dictionary. Not all the columns have to be renamed.\n",
    "cols_to_rename = {'oldName1': 'newName1', 'oldName2': 'newName2'}\n",
    "df.rename(columns=cols_to_rename, inplace=True)"
   ]
  },
  {
   "cell_type": "code",
   "execution_count": null,
   "id": "e819c6e8",
   "metadata": {},
   "outputs": [],
   "source": [
    "# Reindex your dataframe\n",
    "df = df.reindex(columns=['col1', 'col3', 'col2'])"
   ]
  },
  {
   "cell_type": "code",
   "execution_count": null,
   "id": "0b2acfd0",
   "metadata": {},
   "outputs": [],
   "source": [
    "# Merge 2 of more df's\n",
    "# https://stackoverflow.com/questions/53645882/pandas-merging-101\n",
    "# https://pandas.pydata.org/docs/reference/api/pandas.DataFrame.merge.html\n",
    "df = df.merge(df_exrate, how='left', on='version')"
   ]
  },
  {
   "cell_type": "code",
   "execution_count": null,
   "id": "293db435",
   "metadata": {},
   "outputs": [],
   "source": [
    "# Concat df's\n",
    "# https://stackoverflow.com/questions/49620538/what-are-the-levels-keys-and-names-arguments-for-in-pandas-concat-functio"
   ]
  },
  {
   "cell_type": "markdown",
   "id": "b3f90fe8",
   "metadata": {},
   "source": [
    "### (4) Clean Up Data Types\n",
    "\n",
    "- datetime column\n",
    "- numbers: int or float\n",
    "- boolean: yes/no, true/false\n",
    "- categorical: as object\n",
    "- others: object"
   ]
  },
  {
   "cell_type": "code",
   "execution_count": null,
   "id": "68779ff7",
   "metadata": {},
   "outputs": [],
   "source": [
    "# Change cols to int64 or 32\n",
    "cols_to_int = ['ID_PRODUCT']\n",
    "df[cols_to_int] = df[cols_to_int].astype('int64')"
   ]
  },
  {
   "cell_type": "code",
   "execution_count": null,
   "id": "b6e2787b",
   "metadata": {},
   "outputs": [],
   "source": [
    "# For changing multiple column types at once\n",
    "cols_to_category = ['BUYER_COUNTRY', 'SHIPMENT_TYPE', 'TRANSPORT_MODE']\n",
    "df[cols_to_category] = df[cols_to_category].astype('category')"
   ]
  },
  {
   "cell_type": "code",
   "execution_count": null,
   "id": "13f819c2",
   "metadata": {},
   "outputs": [],
   "source": [
    "# to change a single column\n",
    "df['col'] = pd.to_datetime(df['col'], format='%Y-%m-%d %H:%M:%S.%f')\n",
    "# or to change multiple columns into the same datetime format\n",
    "cols_to_date = ['col1', 'col2']\n",
    "df[cols_to_date1] = df[cols_to_date1].apply(pd.to_datetime, format='%Y-%m-%d %H:%M:%S.%f')"
   ]
  },
  {
   "cell_type": "code",
   "execution_count": null,
   "id": "4d798397",
   "metadata": {},
   "outputs": [],
   "source": [
    "df['col'] = df['col'].apply(pd.to_numeric)"
   ]
  },
  {
   "cell_type": "code",
   "execution_count": null,
   "id": "bb6e5cc4",
   "metadata": {},
   "outputs": [],
   "source": [
    "df[\"col\"] = df[\"col\"].astype('category')"
   ]
  },
  {
   "cell_type": "code",
   "execution_count": null,
   "id": "a6d92a1d",
   "metadata": {},
   "outputs": [],
   "source": [
    "# Get unique value in each column\n",
    "df['col'].unique()\n",
    "print(df.apply(lambda col: col.unique()))"
   ]
  },
  {
   "cell_type": "code",
   "execution_count": null,
   "id": "994460bd",
   "metadata": {},
   "outputs": [],
   "source": [
    "df.dtypes"
   ]
  },
  {
   "cell_type": "markdown",
   "id": "1f3fb99a",
   "metadata": {},
   "source": [
    "### (5) Data Manipulation\n",
    "\n",
    "- Check is any null values\n",
    "- Drop that Nan column / rows\n",
    "- Fill that NaN column with some values\n",
    "\n",
    "Articles:\n",
    "- https://pbpython.com/categorical-encoding.html"
   ]
  },
  {
   "cell_type": "code",
   "execution_count": null,
   "id": "89dde4f3",
   "metadata": {},
   "outputs": [],
   "source": [
    "# Get rows that have NaN values\n",
    "print(df[df.isnull().any(axis=1)])"
   ]
  },
  {
   "cell_type": "code",
   "execution_count": null,
   "id": "bfdf676e",
   "metadata": {},
   "outputs": [],
   "source": [
    "# For a specific column, find all the values and frequency of each value\n",
    "print(df['col'].value_counts())"
   ]
  },
  {
   "cell_type": "code",
   "execution_count": null,
   "id": "62a58927",
   "metadata": {},
   "outputs": [],
   "source": [
    "# Use the above value count to fill in the new col X row missing data\n",
    "df = df.fillna({\"col\": \"value\"})\n",
    "# To replace NaN for the whole dataframe with 0\n",
    "df = df.replace(np.nan, 0)"
   ]
  },
  {
   "cell_type": "code",
   "execution_count": null,
   "id": "3f3376b1",
   "metadata": {},
   "outputs": [],
   "source": [
    "# Reset the index\n",
    "df = df.reset_index(drop=True)"
   ]
  },
  {
   "cell_type": "markdown",
   "id": "3c495734",
   "metadata": {},
   "source": [
    "### (6) Save output file into processed directory\n",
    "\n",
    "Save a file in the processed directory that is cleaned properly. It will be read in and used later for further analysis."
   ]
  },
  {
   "cell_type": "code",
   "execution_count": null,
   "id": "554a6b6c",
   "metadata": {},
   "outputs": [],
   "source": [
    "df.to_pickle(summary_file)"
   ]
  }
 ],
 "metadata": {
  "kernelspec": {
   "display_name": "Python 3 (ipykernel)",
   "language": "python",
   "name": "python3"
  },
  "language_info": {
   "codemirror_mode": {
    "name": "ipython",
    "version": 3
   },
   "file_extension": ".py",
   "mimetype": "text/x-python",
   "name": "python",
   "nbconvert_exporter": "python",
   "pygments_lexer": "ipython3",
   "version": "3.9.10"
  }
 },
 "nbformat": 4,
 "nbformat_minor": 5
}
